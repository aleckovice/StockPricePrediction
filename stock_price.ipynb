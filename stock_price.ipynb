{
 "cells": [],
 "metadata": {
  "kernelspec": {
   "display_name": "a4_ml",
   "language": "python",
   "name": "python3"
  },
  "language_info": {
   "name": "python",
   "version": "3.12.2"
  }
 },
 "nbformat": 4,
 "nbformat_minor": 2
}
